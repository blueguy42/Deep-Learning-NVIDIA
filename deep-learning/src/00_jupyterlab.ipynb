{
 "cells": [
  {
   "cell_type": "markdown",
   "metadata": {
    "id": "IGWmiL12wnAI"
   },
   "source": [
    "<a href=\"https://www.nvidia.com/dli\"> <img src=\"images/DLI_Header.png\" alt=\"Header\" style=\"width: 400px;\"/> </a>"
   ]
  },
  {
   "cell_type": "markdown",
   "metadata": {
    "id": "DVTsUCFAwnAO"
   },
   "source": [
    "# JupyterLab\n",
    "For this hands-on lab, we use [JupyterLab](https://jupyterlab.readthedocs.io/en/stable/) to manage our environment.  The [JupyterLab Interface](https://jupyterlab.readthedocs.io/en/stable/user/interface.html) is a dashboard that provides access to interactive iPython notebooks, as well as the folder structure of our environment and a terminal window into the Ubuntu operating system. The first view you'll see includes a **menu bar** at the top, a **file browser** in the **left sidebar**, and a **main work area** that is initially open to the \"Launcher\" page. \n",
    "\n",
    "<img src=\"images/jl_launcher.png\">\n",
    "\n",
    "The file browser can be navigated just like any other file explorer. A double click on any of the items will open a new tab with its content.\n",
    "\n",
    "The main work area includes tabbed views of open files that can be closed, moved, and edited as needed. \n",
    "\n",
    "The notebooks, including this one, consist of a series of content and code **cells**.  To execute code in a code cell, press `Shift+Enter` or the \"Run\" button in the menu bar above, while a cell is highlighted. Sometimes, a content cell will get switched to editing mode. Pressing `Shift+Enter` will switch it back to a readable form.\n",
    "\n",
    "Try executing the simple print statement in the cell below."
   ]
  },
  {
   "cell_type": "code",
   "execution_count": 1,
   "metadata": {
    "colab": {
     "base_uri": "https://localhost:8080/"
    },
    "id": "u5q8uxMiwnAP",
    "outputId": "2773a51e-6bb6-482b-e144-59398b1bf520"
   },
   "outputs": [
    {
     "name": "stdout",
     "output_type": "stream",
     "text": [
      "This is just a simple print statement\n"
     ]
    }
   ],
   "source": [
    "# Highlight this cell and click [Shift+Enter] to execute\n",
    "print('This is just a simple print statement')"
   ]
  },
  {
   "cell_type": "markdown",
   "metadata": {
    "id": "f-6p72C3wnAR"
   },
   "source": [
    "## Clearing GPU Memory"
   ]
  },
  {
   "cell_type": "markdown",
   "metadata": {
    "id": "jnsKG5evwnAR"
   },
   "source": [
    "At times you will need to clear the GPUs memory, either to reset the GPU state when an experiment goes wrong, or, in between notebooks when you need a fresh start for a new set of exercises.\n",
    "\n",
    "There are 3 primary ways to clear the GPU memory. The first is to use the ⟳ button on the menu directly above the notebook. Click it now, you should see a prompt asking if it is okay to reset the GPU memory.\n",
    "\n",
    "The second way is via a code cell that we will be providing for you at the end of each notebook. Below is one of these cells which you can run just to get into the right habit."
   ]
  },
  {
   "cell_type": "code",
   "execution_count": 2,
   "metadata": {
    "colab": {
     "base_uri": "https://localhost:8080/"
    },
    "id": "olAklMBWwnAS",
    "outputId": "675c2d41-8cfc-420c-9b42-56b5c8b2a4ea"
   },
   "outputs": [
    {
     "data": {
      "text/plain": [
       "{'status': 'ok', 'restart': True}"
      ]
     },
     "execution_count": 2,
     "metadata": {},
     "output_type": "execute_result"
    }
   ],
   "source": [
    "import IPython\n",
    "app = IPython.Application.instance()\n",
    "app.kernel.do_shutdown(True)"
   ]
  },
  {
   "cell_type": "markdown",
   "metadata": {
    "id": "1AMQh75SwnAS"
   },
   "source": [
    "The final way is with the kernel menu on the left, the dark circle with a light square in it. While the previous two strategies might be considered a \"soft\" reset, this is more of a force \"hard\" stop.\n",
    "\n",
    "## Next"
   ]
  },
  {
   "cell_type": "markdown",
   "metadata": {
    "id": "-1vQXkKiwnAT"
   },
   "source": [
    "Now that you are familiar with the interactive environment, you will, in the next section, perform the \"hello world\" of deep learning, training a neural network to perform image classification on handwritten digits. Please continue to [01_mnsist.ipynb](./01_mnist.ipynb)."
   ]
  },
  {
   "cell_type": "markdown",
   "metadata": {
    "id": "kz_p7nKDwnAU"
   },
   "source": [
    "<a href=\"https://www.nvidia.com/dli\"> <img src=\"images/DLI_Header.png\" alt=\"Header\" style=\"width: 400px;\"/> </a>"
   ]
  }
 ],
 "metadata": {
  "colab": {
   "name": "00_jupyterlab.ipynb",
   "provenance": []
  },
  "kernelspec": {
   "display_name": "Python 3",
   "language": "python",
   "name": "python3"
  },
  "language_info": {
   "codemirror_mode": {
    "name": "ipython",
    "version": 3
   },
   "file_extension": ".py",
   "mimetype": "text/x-python",
   "name": "python",
   "nbconvert_exporter": "python",
   "pygments_lexer": "ipython3",
   "version": "3.6.9"
  }
 },
 "nbformat": 4,
 "nbformat_minor": 4
}
